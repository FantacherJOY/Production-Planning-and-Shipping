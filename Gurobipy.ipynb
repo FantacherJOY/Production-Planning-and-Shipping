{
 "cells": [
  {
   "cell_type": "code",
   "execution_count": 1,
   "id": "39c52a5a",
   "metadata": {},
   "outputs": [],
   "source": [
    "import pandas as pd\n",
    "import gurobipy as gp\n",
    "from gurobipy import GRB"
   ]
  },
  {
   "cell_type": "code",
   "execution_count": 3,
   "id": "8e061502",
   "metadata": {},
   "outputs": [],
   "source": [
    "CUST=['R','H','M']\n",
    "PROD= ['S','M','L','P']\n",
    "PLANT= [1, 2, 3] "
   ]
  },
  {
   "cell_type": "code",
   "execution_count": 20,
   "id": "bd9d3f4a",
   "metadata": {},
   "outputs": [],
   "source": [
    "AvailMaterial= 3500\n",
    "Capacity= 1500\n",
    "AvailLaborHour= {1:6000, 2:5000, 3:3000}\n",
    "AvailMachineHour= {1:10000, 2:12500, 3:6000}"
   ]
  },
  {
   "cell_type": "markdown",
   "id": "8407e1c4",
   "metadata": {},
   "source": [
    "## Sale Prices"
   ]
  },
  {
   "cell_type": "code",
   "execution_count": 21,
   "id": "2546d8a2",
   "metadata": {},
   "outputs": [],
   "source": [
    "MaxProdSales={\n",
    "    ('S','R'):300,\n",
    "    ('S','H'):400,\n",
    "    ('S','M'):300,\n",
    "    ('M','R'):300,\n",
    "    ('M','H'):300,\n",
    "    ('M','M'):400,\n",
    "    ('L','R'):500,\n",
    "    ('L','H'):200,\n",
    "    ('L','M'):300,\n",
    "    ('P','R'):200,\n",
    "    ('P','H'):400,\n",
    "    ('P','M'):300\n",
    "}\n",
    "\n",
    "SalePrice={\n",
    "    ('S','R'):17,\n",
    "    ('S','H'):16,\n",
    "    ('S','M'):16,\n",
    "    ('M','R'):18,\n",
    "    ('M','H'):18,\n",
    "    ('M','M'):17,\n",
    "    ('L','R'):22,\n",
    "    ('L','H'):22,\n",
    "    ('L','M'):23,\n",
    "    ('P','R'):29,\n",
    "    ('P','H'):26,\n",
    "    ('P','M'):27\n",
    "}"
   ]
  },
  {
   "cell_type": "markdown",
   "id": "163c220b",
   "metadata": {},
   "source": [
    "## Production and Shipping Cost"
   ]
  },
  {
   "cell_type": "code",
   "execution_count": 22,
   "id": "b88f7368",
   "metadata": {},
   "outputs": [],
   "source": [
    "ShipCost={\n",
    "    ('R',1):1.0,\n",
    "    ('R',2):1.2,\n",
    "    ('R',3):1.4,\n",
    "    ('H',1):1.6,\n",
    "    ('H',2):1.5,\n",
    "    ('H',3):1.5,\n",
    "    ('M',1):1.1,\n",
    "    ('M',2):1.0,\n",
    "    ('M',3):1.3\n",
    "}\n",
    "\n",
    "ProdCost={\n",
    "    ('S',1):14,\n",
    "    ('S',2):13,\n",
    "    ('S',3):14,\n",
    "    ('M',1):16,\n",
    "    ('M',2):17,\n",
    "    ('M',3):15,\n",
    "    ('L',1):18,\n",
    "    ('L',2):20,\n",
    "    ('L',3):19,\n",
    "    ('P',1):26,\n",
    "    ('P',2):24,\n",
    "    ('P',3):23\n",
    "}"
   ]
  },
  {
   "cell_type": "markdown",
   "id": "913afbec",
   "metadata": {},
   "source": [
    "## Available resources"
   ]
  },
  {
   "cell_type": "code",
   "execution_count": 23,
   "id": "9d1526e0",
   "metadata": {},
   "outputs": [],
   "source": [
    "LaborHour={\n",
    "    ('S',1):3,\n",
    "    ('S',2):3.5,\n",
    "    ('S',3):3,\n",
    "    ('M',1):3,\n",
    "    ('M',2):3.5,\n",
    "    ('M',3):3.5,\n",
    "    ('L',1):4,\n",
    "    ('L',2):4.5,\n",
    "    ('L',3):4,\n",
    "    ('P',1):4,\n",
    "    ('P',2):4.5,\n",
    "    ('P',3):4.5\n",
    "}\n",
    "\n",
    "MachineHour={\n",
    "    ('S',1):8,\n",
    "    ('S',2):7,\n",
    "    ('S',3):7.5,\n",
    "    ('M',1):8.5,\n",
    "    ('M',2):7,\n",
    "    ('M',3):7.5,\n",
    "    ('L',1):9,\n",
    "    ('L',2):8,\n",
    "    ('L',3):8.5,\n",
    "    ('P',1):9,\n",
    "    ('P',2):9,\n",
    "    ('P',3):8.5\n",
    "}\n",
    "\n",
    "Material={\n",
    "    ('S',1):1.0,\n",
    "    ('S',2):1.1,\n",
    "    ('S',3):1.1,\n",
    "    ('M',1):1.1,\n",
    "    ('M',2):1.0,\n",
    "    ('M',3):1.1,\n",
    "    ('L',1):1.2,\n",
    "    ('L',2):1.1,\n",
    "    ('L',3):1.3,\n",
    "    ('P',1):1.3,\n",
    "    ('P',2):1.4,\n",
    "    ('P',3):1.3\n",
    "}"
   ]
  },
  {
   "cell_type": "code",
   "execution_count": 24,
   "id": "091fd3b2",
   "metadata": {},
   "outputs": [
    {
     "data": {
      "text/plain": [
       "{('S', 1): 1.0,\n",
       " ('S', 2): 1.1,\n",
       " ('S', 3): 1.1,\n",
       " ('M', 1): 1.1,\n",
       " ('M', 2): 1.0,\n",
       " ('M', 3): 1.1,\n",
       " ('L', 1): 1.2,\n",
       " ('L', 2): 1.1,\n",
       " ('L', 3): 1.3,\n",
       " ('P', 1): 1.3,\n",
       " ('P', 2): 1.4,\n",
       " ('P', 3): 1.3}"
      ]
     },
     "execution_count": 24,
     "metadata": {},
     "output_type": "execute_result"
    }
   ],
   "source": [
    "Material"
   ]
  },
  {
   "cell_type": "code",
   "execution_count": 25,
   "id": "76870efa",
   "metadata": {},
   "outputs": [],
   "source": [
    "# var ProduceP1{PROD, CUST} >= 0;\n",
    "# var ProduceP2{PROD, CUST} >= 0;\n",
    "# var ProduceP3{PROD, CUST} >= 0;"
   ]
  },
  {
   "cell_type": "markdown",
   "id": "b5a89887",
   "metadata": {},
   "source": [
    "# Model Deployment"
   ]
  },
  {
   "cell_type": "code",
   "execution_count": 26,
   "id": "f7f710b4",
   "metadata": {},
   "outputs": [],
   "source": [
    "model = gp.Model('Total Revenue')\n",
    "\n",
    "ProduceP1=model.addVars(PROD, CUST, name=\"P1\")\n",
    "ProduceP2=model.addVars(PROD, CUST, name=\"P2\")\n",
    "ProduceP3=model.addVars(PROD, CUST, name=\"P3\")"
   ]
  },
  {
   "cell_type": "markdown",
   "id": "1a55f326",
   "metadata": {},
   "source": [
    "### Labor Required"
   ]
  },
  {
   "cell_type": "code",
   "execution_count": 27,
   "id": "4e50c4fe",
   "metadata": {},
   "outputs": [],
   "source": [
    "Labor_Required=model.addConstrs((gp.quicksum(LaborHour[i,p]*ProduceP2[i,j] for i in PROD for j in CUST) \n",
    "                                   <= AvailMachineHour[p] for p in PLANT), \"Lab Req\")"
   ]
  },
  {
   "cell_type": "markdown",
   "id": "a042d231",
   "metadata": {},
   "source": [
    "### Machine Required"
   ]
  },
  {
   "cell_type": "code",
   "execution_count": 28,
   "id": "7de95872",
   "metadata": {},
   "outputs": [],
   "source": [
    "Machine_Required=model.addConstrs((gp.quicksum(MachineHour[i,p]*ProduceP1[i,j] for i in PROD for j in CUST) \n",
    "                                   <= AvailMachineHour[p] for p in PLANT),\"Mac Req\")"
   ]
  },
  {
   "cell_type": "markdown",
   "id": "58289b4f",
   "metadata": {},
   "source": [
    "### Material Required"
   ]
  },
  {
   "cell_type": "code",
   "execution_count": 29,
   "id": "1b2ef08a",
   "metadata": {},
   "outputs": [],
   "source": [
    "Material_Req=model.addConstr((gp.quicksum(((ProduceP1[i,'H']+ProduceP1[i,'R']+ProduceP1[i,'M'])*Material[i,1]+\n",
    "                        (ProduceP2[i,'H']+ProduceP2[i,'R']+ProduceP2[i,'M'])*Material[i,2]+\n",
    "                        (ProduceP3[i,'H']+ProduceP3[i,'R']+ProduceP3[i,'M'])*Material[i,3]) for i in PROD)\n",
    "                         <= AvailMaterial),\"Mat Req\")"
   ]
  },
  {
   "cell_type": "markdown",
   "id": "62d2cb35",
   "metadata": {},
   "source": [
    "### Max Sales"
   ]
  },
  {
   "cell_type": "code",
   "execution_count": 30,
   "id": "e5ef6811",
   "metadata": {},
   "outputs": [],
   "source": [
    "Max_Sales=model.addConstrs((SalePrice[i,j]*(ProduceP1[i,j]+ProduceP2[i,j]+ProduceP3[i,j])\n",
    "                             <= MaxProdSales[i,j] for i in PROD for j in CUST),\"Sls Lim\")"
   ]
  },
  {
   "cell_type": "markdown",
   "id": "1e5bfe8f",
   "metadata": {},
   "source": [
    "### Inspection Capacity"
   ]
  },
  {
   "cell_type": "code",
   "execution_count": 31,
   "id": "3d44c3b3",
   "metadata": {},
   "outputs": [],
   "source": [
    "Inspection=model.addConstr((gp.quicksum((ProduceP1[i,j]+ProduceP2[i,j]) \n",
    "                                          for i in PROD for j in CUST if j!='M' ) <= Capacity),\"Inspection\")"
   ]
  },
  {
   "cell_type": "code",
   "execution_count": 32,
   "id": "470ddc27",
   "metadata": {},
   "outputs": [],
   "source": [
    "model.setObjective(\n",
    "                    gp.quicksum(SalePrice[i,j]*(ProduceP1[i,j]+ProduceP2[i,j]+ProduceP3[i,j]) for i in PROD for j in CUST)\n",
    "                    - gp.quicksum(((ProduceP1[i,'H']+ProduceP1[i,'R']+ProduceP1[i,'M'])*ProdCost[i,1]+\n",
    "                       (ProduceP2[i,'H']+ProduceP2[i,'R']+ProduceP2[i,'M'])*ProdCost[i,2]+\n",
    "                       (ProduceP3[i,'H']+ProduceP3[i,'R']+ProduceP3[i,'M'])*ProdCost[i,3]) for i in PROD)\n",
    "                    -gp.quicksum((ProduceP1[i,j]*ShipCost[j,1]+ProduceP2[i,j]*ShipCost[j,2]+ProduceP3[i,j]*ShipCost[j,3])\n",
    "                                 for i in PROD for j in CUST)\n",
    "                    , GRB.MAXIMIZE)\n",
    "    "
   ]
  },
  {
   "cell_type": "code",
   "execution_count": 33,
   "id": "f1db548a",
   "metadata": {},
   "outputs": [
    {
     "name": "stdout",
     "output_type": "stream",
     "text": [
      "Warning: constraint name \"Lab Req[1]\" has a space\n",
      "Gurobi Optimizer version 9.1.2 build v9.1.2rc0 (win64)\n",
      "Thread count: 4 physical cores, 8 logical processors, using up to 8 threads\n",
      "Optimize a model with 20 rows, 36 columns and 160 nonzeros\n",
      "Model fingerprint: 0x10aa163b\n",
      "Coefficient statistics:\n",
      "  Matrix range     [1e+00, 3e+01]\n",
      "  Objective range  [1e-01, 5e+00]\n",
      "  Bounds range     [0e+00, 0e+00]\n",
      "  RHS range        [2e+02, 1e+04]\n",
      "Presolve removed 20 rows and 36 columns\n",
      "Presolve time: 0.01s\n",
      "Presolve: All rows and columns removed\n",
      "Iteration    Objective       Primal Inf.    Dual Inf.      Time\n",
      "       0    4.1821965e+02   0.000000e+00   0.000000e+00      0s\n",
      "\n",
      "Solved in 0 iterations and 0.01 seconds\n",
      "Optimal objective  4.182196458e+02\n"
     ]
    }
   ],
   "source": [
    "# Verify model formulation\n",
    "\n",
    "model.write('Case4.lp')\n",
    "\n",
    "# Run optimization engine\n",
    "\n",
    "model.optimize()\n"
   ]
  },
  {
   "cell_type": "code",
   "execution_count": 34,
   "id": "eb2d8067",
   "metadata": {},
   "outputs": [
    {
     "name": "stdout",
     "output_type": "stream",
     "text": [
      "418.2196458331921\n"
     ]
    }
   ],
   "source": [
    "print(model.objVal)"
   ]
  },
  {
   "cell_type": "code",
   "execution_count": 24,
   "id": "7fcac7e6",
   "metadata": {},
   "outputs": [],
   "source": [
    "# model.getConstr(\"Labor Required\")"
   ]
  },
  {
   "cell_type": "code",
   "execution_count": 25,
   "id": "4c6f02ef",
   "metadata": {},
   "outputs": [],
   "source": [
    "# model.getVars()"
   ]
  },
  {
   "cell_type": "code",
   "execution_count": 26,
   "id": "6c60c113",
   "metadata": {},
   "outputs": [
    {
     "name": "stdout",
     "output_type": "stream",
     "text": [
      "Sensitivity Analysis (SA)\n",
      "ObjVal = 389.24905759789795\n",
      "\n",
      "    Variable            X          Obj     SAObjLow      SAObjUp \n",
      "----------------------------------------------------------------\n",
      "     P1[S,R]            0            2         -inf          2.8 \n",
      "     P1[S,H]            0          0.4         -inf          1.5 \n",
      "     P1[S,M]            0          0.9         -inf            2 \n",
      "     P1[M,R]            0            1         -inf          1.6 \n",
      "     P1[M,H]            0          0.4         -inf          1.5 \n",
      "     P1[M,M]            0         -0.1         -inf          0.7 \n",
      "     P1[L,R]      22.7273            3          1.6          inf \n",
      "     P1[L,H]      9.09091          2.4          1.5          inf \n",
      "     P1[L,M]      13.0435          3.9          2.7          inf \n",
      "     P1[P,R]            0            2         -inf          4.6 \n",
      "     P1[P,H]            0         -1.6         -inf          1.5 \n",
      "     P1[P,M]            0         -0.1         -inf          2.7 \n",
      "     P2[S,R]      11.7647          2.8            2          inf \n",
      "     P2[S,H]           25          1.5          0.5          inf \n",
      "     P2[S,M]         12.5            2          0.9          inf \n",
      "     P2[M,R]            0         -0.2         -inf          1.6 \n",
      "     P2[M,H]            0         -0.5         -inf          1.5 \n",
      "     P2[M,M]            0           -1         -inf          0.7 \n",
      "     P2[L,R]            0          0.8         -inf            3 \n",
      "     P2[L,H]            0          0.5         -inf          2.4 \n",
      "     P2[L,M]            0            2         -inf          3.9 \n",
      "     P2[P,R]            0          3.8         -inf          4.6 \n",
      "     P2[P,H]            0          0.5         -inf          1.5 \n",
      "     P2[P,M]            0            2         -inf          2.7 \n",
      "     P3[S,R]            0          1.6         -inf          2.8 \n",
      "     P3[S,H]            0          0.5         -inf          1.5 \n",
      "     P3[S,M]            0          0.7         -inf            2 \n",
      "     P3[M,R]      16.6667          1.6            1          inf \n",
      "     P3[M,H]      16.6667          1.5          0.4          inf \n",
      "     P3[M,M]      23.5294          0.7           -0          inf \n",
      "     P3[L,R]            0          1.6         -inf            3 \n",
      "     P3[L,H]            0          1.5         -inf          2.4 \n",
      "     P3[L,M]            0          2.7         -inf          3.9 \n",
      "     P3[P,R]      6.89655          4.6          3.8          inf \n",
      "     P3[P,H]      15.3846          1.5          0.5          inf \n",
      "     P3[P,M]      11.1111          2.7            2          inf \n"
     ]
    }
   ],
   "source": [
    "# X: Value in the current solution.\n",
    "# obj: Linear objective coefficient.\n",
    "# SAObjLow: Objective coefficient sensitivity information. \n",
    "\n",
    "print('Sensitivity Analysis (SA)\\nObjVal =', model.ObjVal)\n",
    "model.printAttr(['X', 'Obj', 'SAObjLow', 'SAObjUp'])"
   ]
  },
  {
   "cell_type": "code",
   "execution_count": 27,
   "id": "9dde671e",
   "metadata": {},
   "outputs": [
    {
     "name": "stdout",
     "output_type": "stream",
     "text": [
      "\n",
      "    Variable            X           RC           LB      SALBLow       SALBUp           UB      SAUBLow       SAUBUp \n",
      "--------------------------------------------------------------------------------------------------------------------\n",
      "     P1[S,R]            0         -0.8            0     -1950.74      11.7647          inf            0          inf \n",
      "     P1[S,H]            0         -1.1            0     -1950.74           25          inf            0          inf \n",
      "     P1[S,M]            0         -1.1            0     -1950.74         12.5          inf            0          inf \n",
      "     P1[M,R]            0         -0.6            0         -inf      16.6667          inf            0          inf \n",
      "     P1[M,H]            0         -1.1            0         -inf      16.6667          inf            0          inf \n",
      "     P1[M,M]            0         -0.8            0         -inf      23.5294          inf            0          inf \n",
      "     P1[L,R]      22.7273            0            0         -inf      22.7273          inf      22.7273          inf \n",
      "     P1[L,H]      9.09091            0            0         -inf      9.09091          inf      9.09091          inf \n",
      "     P1[L,M]      13.0435            0            0         -inf      13.0435          inf      13.0435          inf \n",
      "     P1[P,R]            0         -2.6            0         -inf      6.89655          inf            0          inf \n",
      "     P1[P,H]            0         -3.1            0         -inf      15.3846          inf            0          inf \n",
      "     P1[P,M]            0         -2.8            0         -inf      11.1111          inf            0          inf \n",
      "     P2[S,R]      11.7647            0            0         -inf      11.7647          inf      11.7647          inf \n",
      "     P2[S,H]           25            0            0         -inf           25          inf           25          inf \n",
      "     P2[S,M]         12.5            0            0         -inf         12.5          inf         12.5          inf \n",
      "     P2[M,R]            0         -1.8            0     -32860.2      16.6667          inf            0          inf \n",
      "     P2[M,H]            0           -2            0     -32860.2      16.6667          inf            0          inf \n",
      "     P2[M,M]            0         -1.7            0     -32860.2      23.5294          inf            0          inf \n",
      "     P2[L,R]            0         -2.2            0     -661.021      22.7273          inf            0          inf \n",
      "     P2[L,H]            0         -1.9            0     -661.021      9.09091          inf            0          inf \n",
      "     P2[L,M]            0         -1.9            0     -661.021      13.0435          inf            0          inf \n",
      "     P2[P,R]            0         -0.8            0         -inf      6.89655          inf            0          inf \n",
      "     P2[P,H]            0           -1            0         -inf      15.3846          inf            0          inf \n",
      "     P2[P,M]            0         -0.7            0         -inf      11.1111          inf            0          inf \n",
      "     P3[S,R]            0         -1.2            0     -1431.42      11.7647          inf            0          inf \n",
      "     P3[S,H]            0           -1            0     -1431.42           25          inf            0          inf \n",
      "     P3[S,M]            0         -1.3            0     -1950.74         12.5          inf            0          inf \n",
      "     P3[M,R]      16.6667            0            0         -inf      16.6667          inf      16.6667          inf \n",
      "     P3[M,H]      16.6667            0            0         -inf      16.6667          inf      16.6667          inf \n",
      "     P3[M,M]      23.5294            0            0         -inf      23.5294          inf      23.5294          inf \n",
      "     P3[L,R]            0         -1.4            0     -661.021      22.7273          inf            0          inf \n",
      "     P3[L,H]            0         -0.9            0     -661.021      9.09091          inf            0          inf \n",
      "     P3[L,M]            0         -1.2            0     -661.021      13.0435          inf            0          inf \n",
      "     P3[P,R]      6.89655            0            0         -inf      6.89655          inf      6.89655          inf \n",
      "     P3[P,H]      15.3846            0            0         -inf      15.3846          inf      15.3846          inf \n",
      "     P3[P,M]      11.1111            0            0         -inf      11.1111          inf      11.1111          inf \n"
     ]
    }
   ],
   "source": [
    "model.printAttr(['X', 'RC', 'LB', 'SALBLow', 'SALBUp', 'UB', 'SAUBLow', 'SAUBUp'])"
   ]
  },
  {
   "cell_type": "code",
   "execution_count": 28,
   "id": "2faa2a31",
   "metadata": {},
   "outputs": [
    {
     "name": "stdout",
     "output_type": "stream",
     "text": [
      "\n",
      "  Constraint        Sense           Pi        Slack     SARHSLow          RHS      SARHSUp \n",
      "------------------------------------------------------------------------------------------\n",
      "  Lab Req[1]            <            0      9852.21      147.794        10000          inf \n",
      "  Lab Req[2]            <            0      12327.6      172.426        12500          inf \n",
      "  Lab Req[3]            <            0      5852.21      147.794         6000          inf \n",
      "  Mac Req[1]            <            0      9596.25      403.755        10000          inf \n",
      "  Mac Req[2]            <            0      12141.1      358.893        12500          inf \n",
      "  Mac Req[3]            <            0      5618.68      381.324         6000          inf \n",
      "     Mat Req            <            0      3286.02      213.984         3500          inf \n",
      "Sls Lim[S,R]            <     0.164706            0 -2.84217e-14          200      24534.1 \n",
      "Sls Lim[S,H]            <      0.09375            0            0          400      23302.7 \n",
      "Sls Lim[S,M]            <        0.125            0            0          200      31411.8 \n",
      "Sls Lim[M,R]            <    0.0888889            0 -5.68434e-14          300      54071.2 \n",
      "Sls Lim[M,H]            <    0.0833333            0 -5.68434e-14          300      54071.2 \n",
      "Sls Lim[M,M]            <    0.0411765            0 -5.68434e-14          400      51183.9 \n",
      "Sls Lim[L,R]            <     0.136364            0            0          500      15042.5 \n",
      "Sls Lim[L,H]            <     0.109091            0            0          200      14742.5 \n",
      "Sls Lim[L,M]            <     0.169565            0            0          300      15503.5 \n",
      "Sls Lim[P,R]            <     0.158621            0            0          200      73503.4 \n",
      "Sls Lim[P,H]            <    0.0576923            0            0          400      66120.3 \n",
      "Sls Lim[P,M]            <          0.1            0            0          300        68548 \n",
      "  Inspection            <            0      1431.42      68.5829         1500          inf \n"
     ]
    }
   ],
   "source": [
    "model.printAttr(['Sense','Pi','Slack', 'SARHSLow', 'RHS', 'SARHSUp'])"
   ]
  },
  {
   "cell_type": "code",
   "execution_count": null,
   "id": "a9f9d449",
   "metadata": {},
   "outputs": [],
   "source": []
  }
 ],
 "metadata": {
  "kernelspec": {
   "display_name": "Python 3 (ipykernel)",
   "language": "python",
   "name": "python3"
  },
  "language_info": {
   "codemirror_mode": {
    "name": "ipython",
    "version": 3
   },
   "file_extension": ".py",
   "mimetype": "text/x-python",
   "name": "python",
   "nbconvert_exporter": "python",
   "pygments_lexer": "ipython3",
   "version": "3.9.7"
  }
 },
 "nbformat": 4,
 "nbformat_minor": 5
}
